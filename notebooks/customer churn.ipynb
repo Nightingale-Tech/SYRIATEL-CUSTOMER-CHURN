{
 "cells": [
  {
   "cell_type": "markdown",
   "metadata": {},
   "source": [
    "## 1. Business Understanding\n",
    "\n",
    "### Project Overview\n",
    "SyriaTel, a telecommunications company, is experiencing customer churn —customers leaving the service which leads to loss of revenue and market share. The business wants to predict which customers are likely to churn, so they can intervene before it's too late.\n",
    "\n",
    "### Objective\n",
    "The goal of this project is to build a **binary classification model** that predicts whether a customer is likely to churn based on historical usage and demographic data.\n",
    "\n",
    "### Stakeholders\n",
    "- **Customer Retention Team**: Needs a list of customers likely to churn to implement retention strategies.\n",
    "- **Marketing Team**: Wants to know which features drive churn so they can adjust offers and messaging.\n",
    "- **Executive Team**: Needs a high-level summary of churn trends and ROI on churn-prevention efforts.\n",
    "\n",
    "### Machine Learning Framing\n",
    "We will frame this as a **supervised binary classification problem**, where the target is whether the customer has churned or not.\n"
   ]
  },
  {
   "cell_type": "markdown",
   "metadata": {},
   "source": [
    "## 2. Data Understanding\n",
    "\n",
    "In this step, we aim to get a clear overview of the dataset:\n",
    "\n",
    "- Load and preview the data\n",
    "- Examine feature types and basic statistics\n",
    "- Identify missing values and duplicates\n",
    "- Understand the target variable distribution\n",
    "\n",
    "These insights will help guide our data preparation and modeling strategy.The dataset being used for this project was obtained from kaggle.\n"
   ]
  }
 ],
 "metadata": {
  "kernelspec": {
   "display_name": "learn-env",
   "language": "python",
   "name": "python3"
  },
  "language_info": {
   "codemirror_mode": {
    "name": "ipython",
    "version": 3
   },
   "file_extension": ".py",
   "mimetype": "text/x-python",
   "name": "python",
   "nbconvert_exporter": "python",
   "pygments_lexer": "ipython3",
   "version": "3.8.5"
  }
 },
 "nbformat": 4,
 "nbformat_minor": 4
}
